{
 "cells": [
  {
   "cell_type": "markdown",
   "id": "8a44b17e",
   "metadata": {},
   "source": [
    "First import all the packages needed"
   ]
  },
  {
   "cell_type": "code",
   "execution_count": null,
   "id": "14f7ea5c",
   "metadata": {},
   "outputs": [],
   "source": [
    "import fastf1 as ff1\n",
    "from fastf1 import plotting\n",
    "from fastf1.ergast import Ergast\n",
    "import pandas as pd\n",
    "from sklearn.ensemble import RandomForestClassifier, RandomForestRegressor\n",
    "from sklearn.metrics import classification_report\n",
    "from sklearn.preprocessing import MinMaxScaler\n",
    "import warnings\n",
    "import numpy as np\n",
    "import scipy.special\n",
    "import os"
   ]
  },
  {
   "cell_type": "markdown",
   "id": "4b5698cd",
   "metadata": {},
   "source": [
    "Here, all the rounds completed are put into an array so that the data from each can be taken\n",
    "The names of the races are used - the locations normally - and are then found in the fastf1 package"
   ]
  },
  {
   "cell_type": "code",
   "execution_count": null,
   "id": "8e630744",
   "metadata": {},
   "outputs": [],
   "source": [
    "warnings.filterwarnings('ignore')\n",
    "os.makedirs('cache_dir', exist_ok=True)\n",
    "ff1.Cache.enable_cache('cache_dir')\n",
    "\n",
    "completed_rounds = [\n",
    "    'Australia', 'China', 'Japan', 'Bahrain', 'Saudi Arabia', 'Miami', 'Emilia-Romagna', 'Monaco', 'Spain', 'Canada', 'Austria', 'Great Britain', 'Belgium', 'Hungary'\n",
    "]"
   ]
  },
  {
   "cell_type": "markdown",
   "id": "15e63c5e",
   "metadata": {},
   "source": [
    "Be warned, this next part takes a lot longer to run, here all the data is loaded in"
   ]
  },
  {
   "cell_type": "code",
   "execution_count": null,
   "id": "6f00b3c9",
   "metadata": {},
   "outputs": [],
   "source": [
    "races_2025 = []\n",
    "for gp in completed_rounds:\n",
    "    try:\n",
    "        session = ff1.get_session(2025,gp,'R')\n",
    "        session.load()\n",
    "        df_gp = session.results\n",
    "        df_gp['GrandPrix'] = gp\n",
    "        races_2025.append(df_gp)\n",
    "    except Exception as e:\n",
    "        print(f'Failed to load {gp}: {e}')\n",
    "df_2025 = pd.concat(races_2025, ignore_index=True)\n",
    "df_2025['DriverNumber'] = df_2025['DriverNumber'].astype(int)\n",
    "df_2025['won'] = (df_2025['Position'] == 1).astype(int)"
   ]
  },
  {
   "cell_type": "code",
   "execution_count": null,
   "id": "9aeb9e2c",
   "metadata": {},
   "outputs": [],
   "source": [
    "driver_stats = df_2025.groupby('DriverNumber').agg({\n",
    "    'Position' : ['mean', 'min', 'max'],\n",
    "    'Points' : 'sum',\n",
    "    'won' : 'sum',\n",
    "    'GridPosition' : 'mean',\n",
    "    'TeamName' : 'last',\n",
    "    'Abbreviation' : 'last'\n",
    "}).reset_index()\n",
    "\n",
    "driver_stats.columns = [\n",
    "    'DriverNumber', 'avg_pos', 'best_pos', 'worst_pos', 'total_points', 'wins', 'avg_grid', 'TeamName', 'Abbreviation'\n",
    "]\n",
    "\n",
    "df_train = df_2025.merge(driver_stats, on = 'DriverNumber', how = 'left')\n",
    "features = [\n",
    "    'avg_pos', 'best_pos', 'worst_pos', 'total_points', 'wins', 'avg_grid'\n",
    "]"
   ]
  },
  {
   "cell_type": "markdown",
   "id": "613df249",
   "metadata": {},
   "source": [
    "Now the Machine Learning part actually starts, using RandomForestClassifier and sklearn to build the prediction"
   ]
  },
  {
   "cell_type": "code",
   "execution_count": null,
   "id": "a213c57f",
   "metadata": {},
   "outputs": [],
   "source": [
    "X_train = df_train[features]\n",
    "y_win = df_train['won']\n",
    "y_position = df_train['Position']\n",
    "\n",
    "win_clf = RandomForestClassifier(n_estimators=100, random_state=42, class_weight='balanced')\n",
    "win_clf.fit(X_train, y_win)\n",
    "\n",
    "pos_reg = RandomForestRegressor(n_estimators=100, random_state=42)\n",
    "pos_reg.fit(X_train, y_position)\n",
    "X_predict = driver_stats[features]\n",
    "driver_stats['win_prob'] = win_clf.predict_proba(X_predict)[:,1]\n",
    "driver_stats['predicted_pos'] = pos_reg.predict(X_predict)\n",
    "scaler = MinMaxScaler()\n",
    "driver_stats['scaled_win_prob'] = scipy.special.softmax(driver_stats['win_prob'])\n",
    "win_output = driver_stats[['Abbreviation', 'scaled_win_prob']].sort_values(by='scaled_win_prob', ascending = False)\n",
    "driver_stats['predicted_pos'] = driver_stats['predicted_pos'].clip(1, 20)\n",
    "\n"
   ]
  },
  {
   "cell_type": "code",
   "execution_count": null,
   "id": "bda99909",
   "metadata": {},
   "outputs": [],
   "source": [
    "top_10_output = (\n",
    "    driver_stats[['Abbreviation', 'predicted_pos']].sort_values(by='predicted_pos').reset_index(drop=True)\n",
    ")\n",
    "top_10_output = top_10_output.head(10)\n",
    "print('\\nPredicted winner probabilities for Dutch GP: \\n')\n",
    "print(win_output.to_string(index=False, float_format='%.3f'))"
   ]
  },
  {
   "cell_type": "code",
   "execution_count": null,
   "id": "e62dd26b",
   "metadata": {},
   "outputs": [],
   "source": [
    "print('\\nPredicted winner probabilities for the Dutch GP: \\n')\n",
    "print(top_10_output.to_string(index=False, float_format='%.2f'))"
   ]
  },
  {
   "cell_type": "markdown",
   "id": "e8ad9a69",
   "metadata": {},
   "source": [
    "Now a plot to help visualise the prediction\n",
    "<br>\n",
    "This part is a work in progress to help with the prediction"
   ]
  },
  {
   "cell_type": "code",
   "execution_count": null,
   "id": "dd65c59b",
   "metadata": {},
   "outputs": [],
   "source": [
    "import matplotlib.pyplot as plt\n",
    "\n",
    "plt.figure(figsize=(10,6))\n",
    "plt.barh(top_10_output['Abbreviation'],top_10_output['predicted_pos'],color='skyblue')\n",
    "plt.xlabel('Predicted Finishing Position')\n",
    "plt.title('Top 10 Driver Predictions - Dutch GP')\n",
    "plt.gca().invert_yaxis()\n",
    "plt.grid(True, linestyle='--', alpha=0.5)\n",
    "plt.tight_layout()\n",
    "plt.show()"
   ]
  }
 ],
 "metadata": {
  "kernelspec": {
   "display_name": "Python 3",
   "language": "python",
   "name": "python3"
  },
  "language_info": {
   "codemirror_mode": {
    "name": "ipython",
    "version": 3
   },
   "file_extension": ".py",
   "mimetype": "text/x-python",
   "name": "python",
   "nbconvert_exporter": "python",
   "pygments_lexer": "ipython3",
   "version": "3.10.2"
  }
 },
 "nbformat": 4,
 "nbformat_minor": 5
}
