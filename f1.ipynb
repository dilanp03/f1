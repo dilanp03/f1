{
 "cells": [
  {
   "cell_type": "markdown",
   "id": "8a44b17e",
   "metadata": {},
   "source": [
    "First import all the packages needed"
   ]
  },
  {
   "cell_type": "code",
   "execution_count": null,
   "id": "14f7ea5c",
   "metadata": {},
   "outputs": [],
   "source": [
    "import fastf1 as ff1\n",
    "from fastf1 import plotting\n",
    "from fastf1.ergast import Ergast\n",
    "import pandas as pd\n",
    "from sklearn.ensemble import RandomForestClassifier, RandomForestRegressor\n",
    "from sklearn.metrics import classification_report\n",
    "from sklearn.preprocessing import MinMaxScaler\n",
    "import warnings\n",
    "import numpy as np\n",
    "import scipy.special\n",
    "import os"
   ]
  },
  {
   "cell_type": "markdown",
   "id": "4b5698cd",
   "metadata": {},
   "source": [
    "Here, all the rounds completed are put into an array so that the data from each can be taken\n",
    "The names of the races are used - the locations normally - and are then found in the fastf1 package"
   ]
  },
  {
   "cell_type": "code",
   "execution_count": null,
   "id": "8e630744",
   "metadata": {},
   "outputs": [],
   "source": [
    "warnings.filterwarnings('ignore')\n",
    "os.makedirs('cache_dir', exist_ok=True)\n",
    "ff1.Cache.enable_cache('cache_dir')\n",
    "\n",
    "completed_rounds = [\n",
    "    'Australia', 'China', 'Japan', 'Bahrain', 'Saudi Arabia', 'Miami', 'Emilia-Romagna', 'Monaco', 'Spain', 'Canada', 'Austria', 'Great Britain', 'Belgium', 'Hungary', 'Netherlands','Italy','Azerbaijan'\n",
    "]"
   ]
  },
  {
   "cell_type": "markdown",
   "id": "15e63c5e",
   "metadata": {},
   "source": [
    "Be warned, this next part takes a lot longer to run, here all the data is loaded in"
   ]
  },
  {
   "cell_type": "code",
   "execution_count": null,
   "id": "6f00b3c9",
   "metadata": {},
   "outputs": [],
   "source": [
    "races_2025 = []\n",
    "for gp in completed_rounds:\n",
    "    try:\n",
    "        session = ff1.get_session(2025,gp,'R')\n",
    "        session.load()\n",
    "        df_gp = session.results\n",
    "        df_gp['GrandPrix'] = gp\n",
    "        races_2025.append(df_gp)\n",
    "    except Exception as e:\n",
    "        print(f'Failed to load {gp}: {e}')\n",
    "df_2025 = pd.concat(races_2025, ignore_index=True)\n",
    "df_2025['DriverNumber'] = df_2025['DriverNumber'].astype(int)\n",
    "df_2025['won'] = (df_2025['Position'] == 1).astype(int)"
   ]
  },
  {
   "cell_type": "code",
   "execution_count": null,
   "id": "9aeb9e2c",
   "metadata": {},
   "outputs": [],
   "source": [
    "driver_stats = df_2025.groupby('DriverNumber').agg({\n",
    "    'Position' : ['mean', 'min', 'max'],\n",
    "    'Points' : 'sum',\n",
    "    'won' : 'sum',\n",
    "    'GridPosition' : 'mean',\n",
    "    'TeamName' : 'last',\n",
    "    'Abbreviation' : 'last'\n",
    "}).reset_index()\n",
    "\n",
    "driver_stats.columns = [\n",
    "    'DriverNumber', 'avg_pos', 'best_pos', 'worst_pos', 'total_points', 'wins', 'avg_grid', 'TeamName', 'Abbreviation'\n",
    "]\n",
    "\n",
    "df_train = df_2025.merge(driver_stats, on = 'DriverNumber', how = 'left')\n",
    "features = [\n",
    "    'avg_pos', 'best_pos', 'worst_pos', 'total_points', 'wins', 'avg_grid'\n",
    "]"
   ]
  },
  {
   "cell_type": "markdown",
   "id": "613df249",
   "metadata": {},
   "source": [
    "Now the Machine Learning part actually starts, using RandomForestClassifier and sklearn to build the prediction"
   ]
  },
  {
   "cell_type": "code",
   "execution_count": null,
   "id": "a213c57f",
   "metadata": {},
   "outputs": [],
   "source": [
    "X_train = df_train[features]\n",
    "y_win = df_train['won']\n",
    "y_position = df_train['Position']\n",
    "\n",
    "win_clf = RandomForestClassifier(n_estimators=100, random_state=42, class_weight='balanced')\n",
    "win_clf.fit(X_train, y_win)\n",
    "\n",
    "pos_reg = RandomForestRegressor(n_estimators=100, random_state=42)\n",
    "pos_reg.fit(X_train, y_position)\n",
    "X_predict = driver_stats[features]\n",
    "driver_stats['win_prob'] = win_clf.predict_proba(X_predict)[:,1]\n",
    "driver_stats['predicted_pos'] = pos_reg.predict(X_predict)\n",
    "scaler = MinMaxScaler()\n",
    "#driver_stats['scaled_win_prob'] = scipy.special.softmax(driver_stats['win_prob'])\n",
    "#driver_stats['scaled_win_prob'] = driver_stats['win_prob'] / driver_stats['win_prob'].sum()\n",
    "#driver_stats['scaled_win_prob'] = driver_stats['win_prob']\n",
    "temperature = 0.5  # lower = more spread, higher = smoother\n",
    "driver_stats['scaled_win_prob'] = scipy.special.softmax(driver_stats['win_prob'] / temperature)\n",
    "win_output = driver_stats[['Abbreviation', 'scaled_win_prob']].sort_values(by='scaled_win_prob', ascending = False)\n",
    "driver_stats['predicted_pos'] = driver_stats['predicted_pos'].clip(1, 20)\n",
    "\n"
   ]
  },
  {
   "cell_type": "code",
   "execution_count": null,
   "id": "bda99909",
   "metadata": {},
   "outputs": [],
   "source": [
    "# top_10_output = (\n",
    "#     driver_stats[['Abbreviation', 'predicted_pos']].sort_values(by='predicted_pos').reset_index(drop=True)\n",
    "# )\n",
    "# top_10_output = top_10_output.head(10)\n",
    "# print('\\nPredicted winner probabilities for Italian GP: \\n')\n",
    "# print(win_output.to_string(index=False, float_format='%.3f'))"
   ]
  },
  {
   "cell_type": "code",
   "execution_count": null,
   "id": "48b132ee",
   "metadata": {},
   "outputs": [],
   "source": [
    "# Rank drivers based on predicted positions (lower = better)\n",
    "driver_stats['predicted_rank'] = driver_stats['predicted_pos'].rank(method='min', ascending=True)\n",
    "\n",
    "# Select top 10 based on rank\n",
    "top_10_output = (\n",
    "    driver_stats.sort_values(by='predicted_rank')\n",
    "    .head(10)\n",
    "    .reset_index(drop=True)\n",
    ")\n",
    "\n",
    "# Assign realistic finishing positions 1–10 instead of raw regression output\n",
    "top_10_output['final_predicted_pos'] = range(1, len(top_10_output) + 1)\n",
    "\n"
   ]
  },
  {
   "cell_type": "code",
   "execution_count": null,
   "id": "cdb0239e",
   "metadata": {},
   "outputs": [],
   "source": [
    "# Print winner probabilities\n",
    "print('\\nPredicted winner probabilities for Singapore GP: \\n')\n",
    "print(win_output.to_string(index=False, float_format='%.3f'))"
   ]
  },
  {
   "cell_type": "code",
   "execution_count": null,
   "id": "0289e1fb",
   "metadata": {},
   "outputs": [],
   "source": [
    "# Print top 10 predictions with realistic positions\n",
    "print('\\nPredicted top 10 for the Singapore GP: \\n')\n",
    "print(top_10_output[['Abbreviation', 'final_predicted_pos']].to_string(index=False))\n"
   ]
  },
  {
   "cell_type": "code",
   "execution_count": null,
   "id": "97fc6264",
   "metadata": {},
   "outputs": [],
   "source": [
    "# import matplotlib.pyplot as plt\n",
    "\n",
    "# # Use final_predicted_pos for 1–10 realistic positions\n",
    "# plt.figure(figsize=(10, 6))\n",
    "# plt.barh(top_10_output['Abbreviation'], top_10_output['final_predicted_pos'], color='skyblue')\n",
    "\n",
    "# plt.xlabel('Predicted Finishing Position')\n",
    "# plt.title('Top 10 Driver Predictions - Italian GP')\n",
    "\n",
    "# # Invert so P1 is at the top\n",
    "# plt.gca().invert_yaxis()\n",
    "\n",
    "# # Add gridlines for clarity\n",
    "# plt.grid(True, linestyle='--', alpha=0.5)\n",
    "\n",
    "# # Make layout tight and readable\n",
    "# plt.tight_layout()\n",
    "# plt.show()\n"
   ]
  },
  {
   "cell_type": "code",
   "execution_count": null,
   "id": "2ce08cc7",
   "metadata": {},
   "outputs": [],
   "source": [
    "import matplotlib.pyplot as plt\n",
    "\n",
    "plt.figure(figsize=(5, 8))\n",
    "\n",
    "# Show drivers as bars stacked from P1 downwards\n",
    "plt.barh(top_10_output['final_predicted_pos'], \n",
    "         [1]*len(top_10_output),  # all bars same length (just placeholders)\n",
    "         color='black', alpha=0.7)\n",
    "\n",
    "# Add driver abbreviations next to each \"position\"\n",
    "for i, row in top_10_output.iterrows():\n",
    "    plt.text(0.1, row['final_predicted_pos'], row['Abbreviation'],\n",
    "             va='center', ha='left', fontsize=12, fontweight='bold', color='white')\n",
    "\n",
    "plt.yticks(top_10_output['final_predicted_pos'], \n",
    "           [f\"P{pos}\" for pos in top_10_output['final_predicted_pos']])\n",
    "\n",
    "plt.gca().invert_yaxis()  # P1 at top\n",
    "plt.gca().xaxis.set_visible(False)  # hide x-axis\n",
    "\n",
    "plt.title(\"Top 10 Driver Predictions - Italian GP\", fontsize=14, fontweight='bold')\n",
    "plt.box(False)  # remove frame\n",
    "plt.tight_layout()\n",
    "plt.show()\n"
   ]
  }
 ],
 "metadata": {
  "kernelspec": {
   "display_name": "Python 3",
   "language": "python",
   "name": "python3"
  },
  "language_info": {
   "codemirror_mode": {
    "name": "ipython",
    "version": 3
   },
   "file_extension": ".py",
   "mimetype": "text/x-python",
   "name": "python",
   "nbconvert_exporter": "python",
   "pygments_lexer": "ipython3",
   "version": "3.10.2"
  }
 },
 "nbformat": 4,
 "nbformat_minor": 5
}
